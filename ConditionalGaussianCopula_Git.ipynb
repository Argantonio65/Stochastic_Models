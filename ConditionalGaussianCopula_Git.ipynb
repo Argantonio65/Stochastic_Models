{
 "cells": [
  {
   "cell_type": "markdown",
   "metadata": {
    "deletable": true,
    "editable": true
   },
   "source": [
    "# Generation of samples from a random/conditional gaussian copula\n",
    "\n",
    "This code allows for creating random and conditional samples from a gaussian copula. \n",
    "\n",
    "A vector of d random variables is denoted as $\\mathbf{X} \\in \\mathbb{R}^{d}$. \n",
    "\n",
    "The joint probability distribution is defined by providing:\n",
    "\n",
    "* Each variable marginal probability distribution (in the form of a parametric pdf structure).\n",
    "\n",
    "* An internal correlation structure defined by a correlation matrix $\\mathbf{ \\rho } \\in \\mathbb{R}^{dxd}$.\n",
    "\n",
    "Two functions are available:\n",
    "\n",
    "* RadomGaussianCopula_Sample: Allows for generating random samples of size N which respects each marginal distribution and reproduces the correlation structure.\n",
    "\n",
    "* ConditionalGaussianCopula_Sample: Generates samples from the joint probability distribution of the variables providing that the values of m variables are already known. Thus, forming the conditional distribution of the other n = d - m variables.\n",
    "\n",
    "An example is also described in which samples are drawn from a 3 dimentional space. With two gaussian and a lognormal distributions.\n",
    "\n",
    "The unconditional and the conditional distribution of 2 parameters are shown when knowing the value of the third variable."
   ]
  },
  {
   "cell_type": "code",
   "execution_count": 8,
   "metadata": {
    "collapsed": true,
    "deletable": true,
    "editable": true
   },
   "outputs": [],
   "source": [
    "import pandas as pd\n",
    "import numpy as np\n",
    "import matplotlib.pyplot as plt\n",
    "import warnings\n",
    "import scipy.stats as st\n",
    "import statsmodels as sm\n",
    "\n",
    "import matplotlib.gridspec as gridspec\n",
    "import seaborn as sns; sns.set()\n",
    "\n",
    "\n",
    "plt.style.use('seaborn-white')\n",
    "%matplotlib inline"
   ]
  },
  {
   "cell_type": "code",
   "execution_count": 20,
   "metadata": {
    "collapsed": true,
    "deletable": true,
    "editable": true
   },
   "outputs": [],
   "source": [
    "def ConditionalGaussianCopula_Sample(distributions, parameters, CorrMatrix, nsamples, conditionalValue):\n",
    "    \"\"\"\n",
    "    Gaussian copula random vector sample for a d dimentional joint probability distribution. \n",
    "    It computes the conditional probability distribution of the copula given a set of conditionalvalues from n variables.\n",
    "    \n",
    "    :distributions: list(), d parametric probability distributions from scipy.stats.   example: distributions = [st.norm, st.lognorm, st.norm]\n",
    "    \n",
    "    :parameters: list(), a list of the parameters associated to each distribution.  example: parameters = [(100, 30),(0.5, 1, 100),(30, 10)] as par[-2] = loc, par[-1] = scale and par[:-2] = *args\n",
    "    \n",
    "    :CorrMatrix: array(d,d), CorrelationMatrix for the copula.\n",
    "    \n",
    "    :conditionalValue: list(), [[ind, value],[ind, value],...] Index and value of the n parameters which are conditioned.\n",
    "    \n",
    "    :nsamples: integer, number of required samples from the conditional copula (of the d-n dimensions).\n",
    "    \n",
    "    \"\"\"\n",
    "    \n",
    "    \n",
    "    # Step 1 - Compute conditional scheme from the conditioned parameter.\n",
    "    \n",
    "    Standard_Value_condition = []\n",
    "    \n",
    "    for value in conditionalValue:\n",
    "        \n",
    "        # Fx(X=X1)\n",
    "        Uniform_Value_condition = distributions[value[0]].cdf( value[1], loc = parameters[value[0]][-2], \n",
    "                                                                          scale = parameters[value[0]][-1], \n",
    "                                                                          *parameters[value[0]][:-2])\n",
    "        # Fn(0,1)^-1(Fx(X=X1))\n",
    "        Standard_Value_condition.append(st.norm.ppf(Uniform_Value_condition, \n",
    "                                                        scale = CorrMatrix[value[0],value[0]]**0.5))\n",
    "\n",
    "\n",
    "    Standard_Value_condition = np.array(Standard_Value_condition)\n",
    "    \n",
    "    \n",
    "    # Split 2D Cov array in two sets fixed and conditioned variables\n",
    "    Z11 = np.zeros([len(list(zip(*conditionalValue))[0]), len(list(zip(*conditionalValue))[0])])\n",
    "\n",
    "    for n, i in enumerate(list(zip(*conditionalValue))[0]):\n",
    "        for m, j in enumerate(list(zip(*conditionalValue))[0]):\n",
    "            Z11[n,m] = CorrMatrix[i,j]\n",
    "\n",
    "    oposite_ind = range(len(CorrMatrix))\n",
    "    oposite_ind = [i for i in oposite_ind if i not in list(zip(*conditionalValue))[0]]\n",
    "\n",
    "    Z22 = np.zeros([len(oposite_ind), len(oposite_ind)])\n",
    "\n",
    "    for n, i in enumerate(oposite_ind):\n",
    "        for m, j in enumerate(oposite_ind):\n",
    "            Z22[n,m] = CorrMatrix[i,j]\n",
    "\n",
    "    Z21 = np.zeros([len(oposite_ind), len(list(zip(*conditionalValue))[0])])\n",
    "\n",
    "    for n, i in enumerate(oposite_ind):\n",
    "        for m, j in enumerate(list(zip(*conditionalValue))[0]):\n",
    "            Z21[n,m] = CorrMatrix[i,j]\n",
    "\n",
    "    Z12 = Z21.T\n",
    "    \n",
    "    Cond_mean = Z21.dot(np.linalg.inv(Z11).dot(Standard_Value_condition))\n",
    "    Cond_Cov = Z22 - np.dot(Z21, np.dot(np.linalg.inv(Z11), Z12))\n",
    "\n",
    "    # Step 2 - Draw MVN(conditionalmean, ConditionalCov)\n",
    "    MVR = np.random.multivariate_normal(mean = Cond_mean, cov = Cond_Cov, size = nsamples)  \n",
    "    \n",
    "    Marginals = np.zeros(np.shape(MVR))\n",
    "\n",
    "    distributions_P = [distributions[i] for i in range(len(distributions)) if i not in zip(*conditionalValue)[0]]\n",
    "    parameters_P = [parameters[i] for i in range(len(parameters)) if i not in zip(*conditionalValue)[0]]\n",
    "    \n",
    "    for i, column in enumerate(MVR.T):\n",
    "        \n",
    "        scaleGauss = 1\n",
    "        params = parameters_P[i]\n",
    "        arg = params[:-2]\n",
    "        loc = params[-2]\n",
    "        scale = params[-1]\n",
    "\n",
    "        # Step 3 - To each variable apply F(0,1) and Apply inverse cdf marginal cdf_i**(-1)\n",
    "\n",
    "        Marginals[:,i] = distributions_P[i].ppf(st.norm.cdf(column, scale = scaleGauss), loc=loc, scale=scale, *arg)\n",
    "\n",
    "    return Marginals\n",
    "\n",
    "def RadomGaussianCopula_Sample(distributions, parameters, CorrMatrix, nsamples):\n",
    "    import numpy as np\n",
    "    import scipy.stats as st\n",
    "    \"\"\"\n",
    "    Gaussian copula random vector sample for a n dimentional joint probability distribution.\n",
    "    nsamples \n",
    "    distributions: n distribution names from scipy.stats \n",
    "    params: fitted parameter vector\n",
    "    CovMatrix: covariance matrix from the measured data\n",
    "    \"\"\"\n",
    "    \n",
    "    # Step 1 - Draw MVN(0, Cov)\n",
    "    MVR = np.random.multivariate_normal(mean = np.zeros(len(distributions)), cov = CorrMatrix, size = nsamples)\n",
    "    Marginals = np.zeros(np.shape(MVR))\n",
    "    for i, column in enumerate(MVR.T):\n",
    "        scaleGauss = CorrMatrix[i,i]**0.5\n",
    "        params = parameters[i]\n",
    "        arg = params[:-2]\n",
    "        loc = params[-2]\n",
    "        scale = params[-1]\n",
    "        \n",
    "        # Step 2/3 - To each variable apply F(0,cov[i,i] - std) and Apply marginal cdf**(-1)\n",
    "        \n",
    "        Marginals[:,i] = distributions[i].ppf(st.norm.cdf(column, scale = scaleGauss), loc=loc, scale=scale, *arg)\n",
    "        \n",
    "    return Marginals"
   ]
  },
  {
   "cell_type": "code",
   "execution_count": 40,
   "metadata": {
    "collapsed": true,
    "deletable": true,
    "editable": true
   },
   "outputs": [],
   "source": [
    "### Auxiliary plotting functions\n",
    "class SeabornFig2Grid():\n",
    "    \"\"\"\n",
    "    Plot several Seaborn joinplot together  #https://stackoverflow.com/a/46906599/4124317\n",
    "    \"\"\"\n",
    "    def __init__(self, seaborngrid, fig,  subplot_spec):\n",
    "        self.fig = fig\n",
    "        self.sg = seaborngrid\n",
    "        self.subplot = subplot_spec\n",
    "        if isinstance(self.sg, sns.axisgrid.FacetGrid) or \\\n",
    "            isinstance(self.sg, sns.axisgrid.PairGrid):\n",
    "            self._movegrid()\n",
    "        elif isinstance(self.sg, sns.axisgrid.JointGrid):\n",
    "            self._movejointgrid()\n",
    "        self._finalize()\n",
    "\n",
    "    def _movegrid(self):\n",
    "        \"\"\" Move PairGrid or Facetgrid \"\"\"\n",
    "        self._resize()\n",
    "        n = self.sg.axes.shape[0]\n",
    "        m = self.sg.axes.shape[1]\n",
    "        self.subgrid = gridspec.GridSpecFromSubplotSpec(n,m, subplot_spec=self.subplot)\n",
    "        for i in range(n):\n",
    "            for j in range(m):\n",
    "                self._moveaxes(self.sg.axes[i,j], self.subgrid[i,j])\n",
    "\n",
    "    def _movejointgrid(self):\n",
    "        \"\"\" Move Jointgrid \"\"\"\n",
    "        h= self.sg.ax_joint.get_position().height\n",
    "        h2= self.sg.ax_marg_x.get_position().height\n",
    "        r = int(np.round(h/h2))\n",
    "        self._resize()\n",
    "        self.subgrid = gridspec.GridSpecFromSubplotSpec(r+1,r+1, subplot_spec=self.subplot)\n",
    "\n",
    "        self._moveaxes(self.sg.ax_joint, self.subgrid[1:, :-1])\n",
    "        self._moveaxes(self.sg.ax_marg_x, self.subgrid[0, :-1])\n",
    "        self._moveaxes(self.sg.ax_marg_y, self.subgrid[1:, -1])\n",
    "\n",
    "    def _moveaxes(self, ax, gs):\n",
    "        ax.remove()\n",
    "        ax.figure=self.fig\n",
    "        self.fig.axes.append(ax)\n",
    "        self.fig.add_axes(ax)\n",
    "        ax._subplotspec = gs\n",
    "        ax.set_position(gs.get_position(self.fig))\n",
    "        ax.set_subplotspec(gs)\n",
    "\n",
    "    def _finalize(self):\n",
    "        plt.close(self.sg.fig)\n",
    "        self.fig.canvas.mpl_connect(\"resize_event\", self._resize)\n",
    "        self.fig.canvas.draw()\n",
    "\n",
    "    def _resize(self, evt=None):\n",
    "        self.sg.fig.set_size_inches(self.fig.get_size_inches())"
   ]
  },
  {
   "cell_type": "markdown",
   "metadata": {
    "deletable": true,
    "editable": true
   },
   "source": [
    "### Copula Samples"
   ]
  },
  {
   "cell_type": "markdown",
   "metadata": {
    "deletable": true,
    "editable": true
   },
   "source": [
    "Three variables are distributed according to the following marginal probabilidy distributions\n",
    "\n",
    "$$ X_a \\sim N(\\mu = 100, \\sigma = 30) $$\n",
    "$$ X_b \\sim Lognormal(s = 0.5, loc = 1, scale = 100) $$\n",
    "$$ X_c \\sim N(\\mu = 30, \\sigma = 10) $$\n",
    "\n",
    "\n",
    "Also, there is an underlying correlation structure between the three variables. This is described by the Spearman's \n",
    "correlation matrix:\n",
    "\n",
    "$$ \\rho = \n",
    "  \\begin{bmatrix}\n",
    "    1 & 0.2 & 0.5 \\\\\n",
    "    0.2 & 1 & 0.9 \\\\\n",
    "    0.5 & 0.9 & 1 \\\\\n",
    "  \\end{bmatrix} $$\n"
   ]
  },
  {
   "cell_type": "code",
   "execution_count": 39,
   "metadata": {
    "collapsed": true,
    "deletable": true,
    "editable": true
   },
   "outputs": [],
   "source": [
    "# parametric marginals and correlation matrix:\n",
    "\n",
    "Distributions = [st.norm, st.lognorm, st.norm]\n",
    "\n",
    "Parameters = [(100, 30),\n",
    "              (0.5, 1, 100),\n",
    "             (30, 10)]\n",
    "\n",
    "CorrMatrix = np.array([[1, 0.2, 0.5], \n",
    "                       [0.2, 1, .9],\n",
    "                       [0.5, .9, 1]])"
   ]
  },
  {
   "cell_type": "markdown",
   "metadata": {
    "deletable": true,
    "editable": true
   },
   "source": [
    "#### 1-  Unconditional copula\n",
    "\n",
    "First, 5000 samples are drawn using a Gaussian copula. The correlation matrix of the generated sample closely matches the initially provided.\n",
    "\n",
    "Also the joint plot is provided representing the joint distribution of 2-by-2 couples."
   ]
  },
  {
   "cell_type": "code",
   "execution_count": 38,
   "metadata": {
    "collapsed": false,
    "deletable": true,
    "editable": true
   },
   "outputs": [],
   "source": [
    "Marginals =  RadomGaussianCopula_Sample(Distributions, Parameters, CorrMatrix, nsamples = 5000)\n",
    "MarginalCop = pd.DataFrame(Marginals, columns= ['X_a', 'X_b', 'X_c'])"
   ]
  },
  {
   "cell_type": "code",
   "execution_count": 15,
   "metadata": {
    "collapsed": false,
    "deletable": true,
    "editable": true
   },
   "outputs": [
    {
     "data": {
      "text/html": [
       "<div>\n",
       "<style>\n",
       "    .dataframe thead tr:only-child th {\n",
       "        text-align: right;\n",
       "    }\n",
       "\n",
       "    .dataframe thead th {\n",
       "        text-align: left;\n",
       "    }\n",
       "\n",
       "    .dataframe tbody tr th {\n",
       "        vertical-align: top;\n",
       "    }\n",
       "</style>\n",
       "<table border=\"1\" class=\"dataframe\">\n",
       "  <thead>\n",
       "    <tr style=\"text-align: right;\">\n",
       "      <th></th>\n",
       "      <th>X_a</th>\n",
       "      <th>X_b</th>\n",
       "      <th>X_c</th>\n",
       "    </tr>\n",
       "  </thead>\n",
       "  <tbody>\n",
       "    <tr>\n",
       "      <th>X_a</th>\n",
       "      <td>1.000000</td>\n",
       "      <td>0.178667</td>\n",
       "      <td>0.472256</td>\n",
       "    </tr>\n",
       "    <tr>\n",
       "      <th>X_b</th>\n",
       "      <td>0.178667</td>\n",
       "      <td>1.000000</td>\n",
       "      <td>0.887558</td>\n",
       "    </tr>\n",
       "    <tr>\n",
       "      <th>X_c</th>\n",
       "      <td>0.472256</td>\n",
       "      <td>0.887558</td>\n",
       "      <td>1.000000</td>\n",
       "    </tr>\n",
       "  </tbody>\n",
       "</table>\n",
       "</div>"
      ],
      "text/plain": [
       "          X_a       X_b       X_c\n",
       "X_a  1.000000  0.178667  0.472256\n",
       "X_b  0.178667  1.000000  0.887558\n",
       "X_c  0.472256  0.887558  1.000000"
      ]
     },
     "execution_count": 15,
     "metadata": {},
     "output_type": "execute_result"
    }
   ],
   "source": [
    "MarginalCop.corr('spearman')"
   ]
  },
  {
   "cell_type": "code",
   "execution_count": 17,
   "metadata": {
    "collapsed": false,
    "deletable": true,
    "editable": true
   },
   "outputs": [
    {
     "data": {
      "image/png": "[encoded data removed]",
      "text/plain": [
       "<matplotlib.figure.Figure at 0x120255c90>"
      ]
     },
     "metadata": {},
     "output_type": "display_data"
    }
   ],
   "source": [
    "g0 = sns.jointplot(x=MarginalCop['X_a'], y= MarginalCop['X_b'], kind='kde')\n",
    "g1 = sns.jointplot(x=MarginalCop['X_a'], y= MarginalCop['X_c'], kind='kde')\n",
    "g2 = sns.jointplot(x=MarginalCop['X_b'], y= MarginalCop['X_c'], kind='kde')\n",
    "\n",
    "fig = plt.figure(figsize=(15,5))\n",
    "gs = gridspec.GridSpec(1, 3)\n",
    "mg0 = SeabornFig2Grid(g0, fig, gs[0])\n",
    "mg1 = SeabornFig2Grid(g1, fig, gs[1])\n",
    "mg2 = SeabornFig2Grid(g2, fig, gs[2])\n",
    "\n",
    "gs.tight_layout(fig)\n",
    "plt.show()"
   ]
  },
  {
   "cell_type": "markdown",
   "metadata": {
    "deletable": true,
    "editable": true
   },
   "source": [
    "#### 2-  Conditional copula sample\n",
    "\n",
    "The value of $X_c$ is known to be 10. \n",
    "\n",
    "Then, 5000 samples are drawn from the joint probability distribution of the other 2 free variables ($X_a$ and $X_b$) conditioned to $X_c = 10$.\n"
   ]
  },
  {
   "cell_type": "code",
   "execution_count": 23,
   "metadata": {
    "collapsed": false,
    "deletable": true,
    "editable": true
   },
   "outputs": [],
   "source": [
    "MarginalsConditional = ConditionalGaussianCopula_Sample(Distributions, Parameters, CorrMatrix\n",
    "                                                       , nsamples = 5000, conditionalValue=[[2,10]])\n",
    "\n",
    "MarginalsConditional = pd.DataFrame(MarginalsConditional, columns= ['X_a','X_b'])\n",
    "MarginalsConditional['X_c'] = 10"
   ]
  },
  {
   "cell_type": "code",
   "execution_count": 37,
   "metadata": {
    "collapsed": false,
    "deletable": true,
    "editable": true
   },
   "outputs": [
    {
     "data": {
      "image/png": "[encoded data removed]",
      "text/plain": [
       "<matplotlib.figure.Figure at 0x1203a5350>"
      ]
     },
     "metadata": {},
     "output_type": "display_data"
    },
    {
     "name": "stdout",
     "output_type": "stream",
     "text": [
      "UnConditional Spearman Correlation X_a, X_b = 0.178667310571\n",
      "Conditional Spearman Correlation X_a, X_b = -0.651622556881\n"
     ]
    }
   ],
   "source": [
    "g0 = sns.jointplot(x=MarginalCop['X_a'], y= MarginalCop['X_b'], kind='kde', xlim = (0,200), ylim = (0,250), stat_func=None)\n",
    "\n",
    "MarginalsConditional2plot = MarginalsConditional.copy()\n",
    "MarginalsConditional2plot.columns = ['X_a | X_c = 10', 'X_b | X_c = 10', 'X_c']\n",
    "\n",
    "MarginalsConditional2plot.loc[1000] = [200,250,10] # Articifial points in order to set the limits in the join plot (not used in the normal computation)\n",
    "MarginalsConditional2plot.loc[1001] = [0,0,10]\n",
    "\n",
    "g1 = sns.jointplot(x=MarginalsConditional2plot['X_a | X_c = 10'], y= MarginalsConditional2plot['X_b | X_c = 10'], kind='kde', xlim = (0,200), ylim = (0,250),stat_func=None)\n",
    "\n",
    "fig = plt.figure(figsize=(10,5))\n",
    "gs = gridspec.GridSpec(1, 2)\n",
    "\n",
    "mg0 = SeabornFig2Grid(g0, fig, gs[0])\n",
    "mg1 = SeabornFig2Grid(g1, fig, gs[1])\n",
    "\n",
    "gs.tight_layout(fig)\n",
    "plt.show()\n",
    "\n",
    "print r'UnConditional Spearman Correlation X_a, X_b = {}'.format(MarginalCop[['X_a','X_b']].corr('spearman')['X_b']['X_a'])\n",
    "print r\"Conditional Spearman Correlation X_a, X_b = {}\".format(MarginalsConditional[['X_a','X_b']].corr('spearman')['X_b']['X_a'])"
   ]
  },
  {
   "cell_type": "markdown",
   "metadata": {
    "collapsed": true,
    "deletable": true,
    "editable": true
   },
   "source": [
    "##### Notes: \n",
    "\n",
    "\n",
    "1- The function ConditionalGaussianCopula_Sample can be used to constrain an arbitrary number of dimensions from a given joint probability distribution defined by a gaussian copula.\n",
    "\n",
    "2- It is curious to see that parting from a completely positive correlation matrix, by conditioning one variable, the conditioned output can result in negatively correlated samples. This is explained by the nature of the  multivariate gaussian distribution, in which the conditioned covariance matrix is computed as: \n",
    "$$ \\hat{\\Sigma} = \\Sigma_{12} - \\Sigma_{12} \\cdot \\Sigma_{22}^{-1} \\cdot \\Sigma_{21} $$\n",
    "\n",
    "And each component refers to the splitting of the correlation matrix in:\n",
    "\n",
    "$$ \\rho = \n",
    "  \\begin{bmatrix}\n",
    "    \\Sigma_{11} & \\Sigma_{12}  \\\\\n",
    "    \\Sigma_{21} & \\Sigma_{22}  \n",
    "  \\end{bmatrix}\n",
    "$$\n",
    "\n",
    "for which, $ X_{22} $ are the components of the m conditioned dimensions and $ X_{11} $ are the $n = d-m$ free variables from the initial space $\\mathbf{X} \\in \\mathbb{R}^{d}$. It is noted that the conditioned covariance matrix in the multivariate gaussian scheme doesn't depend in the conditioned value and only on the initial correlation matrix form, and that for some positive structures it can lead to conditioned negative correlations. This phenomena is inherited by the gaussian copula scheme."
   ]
  },
  {
   "cell_type": "code",
   "execution_count": null,
   "metadata": {
    "collapsed": true,
    "deletable": true,
    "editable": true
   },
   "outputs": [],
   "source": []
  }
 ],
 "metadata": {
  "kernelspec": {
   "display_name": "Python 2",
   "language": "python",
   "name": "python2"
  },
  "language_info": {
   "codemirror_mode": {
    "name": "ipython",
    "version": 2
   },
   "file_extension": ".py",
   "mimetype": "text/x-python",
   "name": "python",
   "nbconvert_exporter": "python",
   "pygments_lexer": "ipython2",
   "version": "2.7.12"
  }
 },
 "nbformat": 4,
 "nbformat_minor": 2
}
